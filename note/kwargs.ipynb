{
 "cells": [
  {
   "cell_type": "code",
   "execution_count": 1,
   "id": "3b22688b-f703-437e-8dab-52e1242adfa9",
   "metadata": {},
   "outputs": [],
   "source": [
    "def fun_args(*args):\n",
    "    print(f'args...{type(args)}')\n",
    "    for a in args:\n",
    "        print(a)"
   ]
  },
  {
   "cell_type": "code",
   "execution_count": 2,
   "id": "2ce6437a-c9a0-43e8-b489-53a26076a2e2",
   "metadata": {},
   "outputs": [
    {
     "name": "stdout",
     "output_type": "stream",
     "text": [
      "args...<class 'tuple'>\n",
      "1\n",
      "2\n",
      "3\n"
     ]
    }
   ],
   "source": [
    "fun_args(1, 2, 3)"
   ]
  },
  {
   "cell_type": "code",
   "execution_count": 17,
   "id": "0036f0dc-5072-4302-8552-ac3d6c001b8c",
   "metadata": {},
   "outputs": [],
   "source": [
    "def fun_kwargs(**kwargs):\n",
    "    print(f'kwargs...{type(kwargs)}')\n",
    "    for k, v in kwargs.items():\n",
    "        print(f'key: {k}, value: {v}')"
   ]
  },
  {
   "cell_type": "code",
   "execution_count": 18,
   "id": "a79e6608-71e0-46a4-82da-9ed3ac5bec22",
   "metadata": {},
   "outputs": [
    {
     "name": "stdout",
     "output_type": "stream",
     "text": [
      "kwargs...<class 'dict'>\n",
      "key: A, value: 1\n",
      "key: B, value: 2\n",
      "key: C, value: 3\n"
     ]
    }
   ],
   "source": [
    "fun_kwargs(A=1, B=2, C=3)"
   ]
  },
  {
   "cell_type": "code",
   "execution_count": null,
   "id": "d0b65eea-bb99-44e0-a077-89f145c5c55f",
   "metadata": {},
   "outputs": [],
   "source": []
  }
 ],
 "metadata": {
  "kernelspec": {
   "display_name": "Python 3 (ipykernel)",
   "language": "python",
   "name": "python3"
  },
  "language_info": {
   "codemirror_mode": {
    "name": "ipython",
    "version": 3
   },
   "file_extension": ".py",
   "mimetype": "text/x-python",
   "name": "python",
   "nbconvert_exporter": "python",
   "pygments_lexer": "ipython3",
   "version": "3.10.12"
  }
 },
 "nbformat": 4,
 "nbformat_minor": 5
}
