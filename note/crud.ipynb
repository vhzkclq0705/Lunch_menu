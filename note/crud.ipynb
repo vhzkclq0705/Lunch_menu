{
 "cells": [
  {
   "cell_type": "code",
   "execution_count": 2,
   "id": "e1933478-2dfd-4aed-9172-4626a4d8bcc7",
   "metadata": {},
   "outputs": [],
   "source": [
    "import psycopg"
   ]
  },
  {
   "cell_type": "markdown",
   "id": "d8ef60c6-2cf3-4c22-8c4d-4b63fd7ccbd9",
   "metadata": {},
   "source": [
    "# How to run my docker\n",
    "\n",
    "```bash\n",
    "$ sudo docker run --name local-postgres \\\n",
    "> -e POSTGRES_USER=sunsin \\\n",
    "> -e POSTGRES_PASSWORD=mysecretpassword \\\n",
    "> -e POSTGRES_DB=sunsindb \\\\n-p 5432:5432 \\\n",
    "> -d postgres:15.10\n",
    "```"
   ]
  },
  {
   "cell_type": "code",
   "execution_count": 15,
   "id": "1f052f01-2687-4110-a110-c7ffdc4dba9f",
   "metadata": {},
   "outputs": [],
   "source": [
    "# DBeaver에서 만든 Docker와 연동된 DB\n",
    "DB_CONFIG = {\n",
    "    \"dbname\": \"sunsindb\",\n",
    "    \"user\": \"sunsin\",\n",
    "    \"password\": \"mysecretpassword\",\n",
    "    \"host\": \"localhost\",\n",
    "    \"port\": \"5432\"\n",
    "}"
   ]
  },
  {
   "cell_type": "code",
   "execution_count": 16,
   "id": "349f5b5a-9729-41df-b4b6-7664716fdecd",
   "metadata": {},
   "outputs": [],
   "source": [
    "# psycopg 패키지를 이용한 DB연결 함수\n",
    "def get_connection():\n",
    "    return psycopg.connect(**DB_CONFIG)"
   ]
  },
  {
   "cell_type": "code",
   "execution_count": 33,
   "id": "73ce5e99-bb85-46d4-8bfc-6c4524a776d2",
   "metadata": {},
   "outputs": [],
   "source": [
    "# DB연결\n",
    "conn = get_connection()\n",
    "cursor = conn.cursor()"
   ]
  },
  {
   "cell_type": "code",
   "execution_count": 34,
   "id": "37e4b11f-d969-4c0c-9b27-bb9c6e4b567d",
   "metadata": {},
   "outputs": [
    {
     "data": {
      "text/plain": [
       "<psycopg.Cursor [COMMAND_OK] [INTRANS] (host=localhost user=sunsin database=sunsindb) at 0x1104122a0>"
      ]
     },
     "execution_count": 34,
     "metadata": {},
     "output_type": "execute_result"
    }
   ],
   "source": [
    "# execute()내부 SQL 구문 실행\n",
    "cursor.execute(\n",
    "    \"INSERT INTO lunch_menu(menu_name, member_name, dt) VALUES (%s, %s, %s);\",\n",
    "    ('TEST_FOOD', 'TEST_MEMBER', '2000-01-01')\n",
    ")"
   ]
  },
  {
   "cell_type": "code",
   "execution_count": 35,
   "id": "f5d1ab96-d375-483b-a983-128734c371c0",
   "metadata": {},
   "outputs": [],
   "source": [
    "# 실행한 SQL 내용 커밋(적용)\n",
    "conn.commit()"
   ]
  },
  {
   "cell_type": "code",
   "execution_count": 27,
   "id": "fee4dac2-402d-419d-9c94-4a649c018101",
   "metadata": {},
   "outputs": [],
   "source": [
    "# DB 연결 해제\n",
    "cursor.close()"
   ]
  },
  {
   "cell_type": "code",
   "execution_count": null,
   "id": "8e4bffc1-af4c-42f0-bb89-37a2c600f828",
   "metadata": {},
   "outputs": [],
   "source": []
  }
 ],
 "metadata": {
  "kernelspec": {
   "display_name": "Python 3 (ipykernel)",
   "language": "python",
   "name": "python3"
  },
  "language_info": {
   "codemirror_mode": {
    "name": "ipython",
    "version": 3
   },
   "file_extension": ".py",
   "mimetype": "text/x-python",
   "name": "python",
   "nbconvert_exporter": "python",
   "pygments_lexer": "ipython3",
   "version": "3.10.12"
  }
 },
 "nbformat": 4,
 "nbformat_minor": 5
}
