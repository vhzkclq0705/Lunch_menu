{
 "cells": [
  {
   "cell_type": "code",
   "execution_count": 12,
   "id": "75cdd0fc-e360-4f1a-b54d-c08c4a0f1ca6",
   "metadata": {},
   "outputs": [],
   "source": [
    "import pandas as pd\n",
    "import streamlit as st\n",
    "import matplotlib.pyplot as plt"
   ]
  },
  {
   "cell_type": "code",
   "execution_count": 13,
   "id": "a08ae212-aee5-4da7-ac16-eacdf8d8fac4",
   "metadata": {},
   "outputs": [],
   "source": [
    "df = pd.read_csv('lunch_menu.csv')"
   ]
  },
  {
   "cell_type": "code",
   "execution_count": 14,
   "id": "8f1097aa-fa01-4483-accb-32d21d21a373",
   "metadata": {},
   "outputs": [
    {
     "data": {
      "text/html": [
       "<div>\n",
       "<style scoped>\n",
       "    .dataframe tbody tr th:only-of-type {\n",
       "        vertical-align: middle;\n",
       "    }\n",
       "\n",
       "    .dataframe tbody tr th {\n",
       "        vertical-align: top;\n",
       "    }\n",
       "\n",
       "    .dataframe thead th {\n",
       "        text-align: right;\n",
       "    }\n",
       "</style>\n",
       "<table border=\"1\" class=\"dataframe\">\n",
       "  <thead>\n",
       "    <tr style=\"text-align: right;\">\n",
       "      <th></th>\n",
       "      <th>ename</th>\n",
       "      <th>gmail</th>\n",
       "      <th>github</th>\n",
       "      <th>domain</th>\n",
       "      <th>vercel</th>\n",
       "      <th>role</th>\n",
       "      <th>2025-01-07</th>\n",
       "      <th>2025-01-08</th>\n",
       "      <th>2025-01-09</th>\n",
       "      <th>2025-01-10</th>\n",
       "      <th>...</th>\n",
       "      <th>2025-01-16</th>\n",
       "      <th>2025-01-17</th>\n",
       "      <th>2025-01-20</th>\n",
       "      <th>2025-01-21</th>\n",
       "      <th>2025-01-22</th>\n",
       "      <th>2025-01-23</th>\n",
       "      <th>2025-01-24</th>\n",
       "      <th>2025-02-03</th>\n",
       "      <th>2025-02-04</th>\n",
       "      <th>2025-02-05</th>\n",
       "    </tr>\n",
       "  </thead>\n",
       "  <tbody>\n",
       "    <tr>\n",
       "      <th>0</th>\n",
       "      <td>TOM</td>\n",
       "      <td>tom@diginori.com</td>\n",
       "      <td>ppabam</td>\n",
       "      <td>sunsin.shop</td>\n",
       "      <td>https://sunsin.vercel.app</td>\n",
       "      <td>PM</td>\n",
       "      <td>순대국</td>\n",
       "      <td>비지찌개</td>\n",
       "      <td>냉동김밥,컵라면</td>\n",
       "      <td>잔치국수</td>\n",
       "      <td>...</td>\n",
       "      <td>오징어 덮밥</td>\n",
       "      <td>짜장면</td>\n",
       "      <td>집밥 도시락</td>\n",
       "      <td>소고기무국</td>\n",
       "      <td>-</td>\n",
       "      <td>오징어덮밥</td>\n",
       "      <td>볶음밥</td>\n",
       "      <td>짜장면</td>\n",
       "      <td>-</td>\n",
       "      <td>-</td>\n",
       "    </tr>\n",
       "  </tbody>\n",
       "</table>\n",
       "<p>1 rows × 23 columns</p>\n",
       "</div>"
      ],
      "text/plain": [
       "  ename             gmail  github       domain                     vercel  \\\n",
       "0   TOM  tom@diginori.com  ppabam  sunsin.shop  https://sunsin.vercel.app   \n",
       "\n",
       "  role 2025-01-07 2025-01-08 2025-01-09 2025-01-10  ... 2025-01-16 2025-01-17  \\\n",
       "0   PM        순대국       비지찌개   냉동김밥,컵라면       잔치국수  ...     오징어 덮밥        짜장면   \n",
       "\n",
       "  2025-01-20 2025-01-21 2025-01-22 2025-01-23 2025-01-24 2025-02-03  \\\n",
       "0     집밥 도시락      소고기무국          -      오징어덮밥        볶음밥        짜장면   \n",
       "\n",
       "  2025-02-04 2025-02-05  \n",
       "0          -          -  \n",
       "\n",
       "[1 rows x 23 columns]"
      ]
     },
     "execution_count": 14,
     "metadata": {},
     "output_type": "execute_result"
    }
   ],
   "source": [
    "df.head(1)"
   ]
  },
  {
   "cell_type": "code",
   "execution_count": 15,
   "id": "b67cf24f-58aa-48d4-8ff8-b6104fb011ba",
   "metadata": {},
   "outputs": [],
   "source": [
    "# df를 루프 돌면서 ename, dt, menu_name 을 추출해서 출력하기\n",
    "\n",
    "output = []\n",
    "for _, row in df.iterrows():\n",
    "    name = row['ename']\n",
    "    for date in df.columns[6:]:\n",
    "        menu = row[date]\n",
    "        if menu == '-':\n",
    "            continue\n",
    "        output.append((name, date, menu))"
   ]
  },
  {
   "cell_type": "code",
   "execution_count": 16,
   "id": "b6f3cd86-dfe9-4001-a42f-c776a2ea5010",
   "metadata": {
    "scrolled": true
   },
   "outputs": [
    {
     "name": "stdout",
     "output_type": "stream",
     "text": [
      "TOM 2025-01-07 순대국\n",
      "TOM 2025-01-08 비지찌개\n",
      "TOM 2025-01-09 냉동김밥,컵라면\n",
      "TOM 2025-01-10 잔치국수\n",
      "TOM 2025-01-13 제육덮밥\n",
      "TOM 2025-01-14 소고기무국\n",
      "TOM 2025-01-15 소고기덮밥\n",
      "TOM 2025-01-16 오징어 덮밥\n",
      "TOM 2025-01-17 짜장면\n",
      "TOM 2025-01-20 집밥 도시락\n",
      "TOM 2025-01-21 소고기무국\n",
      "TOM 2025-01-23 오징어덮밥\n",
      "TOM 2025-01-24 볶음밥\n",
      "TOM 2025-02-03 짜장면\n",
      "cho 2025-01-07 닭개장\n",
      "cho 2025-01-08 규동\n",
      "cho 2025-01-09 얼큰 순대국밥\n",
      "cho 2025-01-10 스파게티\n",
      "cho 2025-01-13 한솥\n",
      "cho 2025-01-14 순대국밥 고기만\n",
      "cho 2025-01-15 파스타\n",
      "cho 2025-01-16 간짜장\n",
      "cho 2025-01-17 스파게티\n",
      "cho 2025-01-20 버섯 비프 카레\n",
      "cho 2025-01-21 스파게티\n",
      "cho 2025-01-22 설렁탕\n",
      "cho 2025-01-23 치킨마요덮밥\n",
      "cho 2025-01-24 등심돈까스\n",
      "cho 2025-02-03 치즈라면, 김밥\n",
      "hyun 2025-01-07 닭개장(특) , 꽈배기\n",
      "hyun 2025-01-08 주먹밥\n",
      "hyun 2025-01-09 얼큰 순대국밥\n",
      "hyun 2025-01-10 불닭로제찜닭\n",
      "hyun 2025-01-13 한솥\n",
      "hyun 2025-01-14 순대국밥\n",
      "hyun 2025-01-15 까르보나라 파스타\n",
      "hyun 2025-01-16 간짜장 곱빼기\n",
      "hyun 2025-01-17 참치김밥,라볶이\n",
      "hyun 2025-01-20 Forrk 카레\n",
      "hyun 2025-01-21 고등어구이,제육볶음\n",
      "hyun 2025-01-22 육회비빔밥\n",
      "hyun 2025-01-23 김치찌개\n",
      "hyun 2025-01-24 안심까스\n",
      "hyun 2025-02-03 라돈 모다기\n",
      "JERRY 2025-01-07 닭개장\n",
      "JERRY 2025-01-08 주먹밥\n",
      "JERRY 2025-01-09 얼큰 순대국밥\n",
      "JERRY 2025-01-10 불닭로제찜닭\n",
      "JERRY 2025-01-13 한솥\n",
      "JERRY 2025-01-14 뼈해장국\n",
      "JERRY 2025-01-15 모짜렐라 토마토 파스타\n",
      "JERRY 2025-01-16 짬짜면\n",
      "JERRY 2025-01-20 함바그 카레\n",
      "JERRY 2025-01-21 고등어구이,제육볶음\n",
      "JERRY 2025-01-22 설렁탕\n",
      "JERRY 2025-01-23 치킨마요,찹쌀탕수육\n",
      "JERRY 2025-01-24 반반가츠\n",
      "JERRY 2025-02-03 모다기\n",
      "SEO 2025-01-07 볶음밥\n",
      "SEO 2025-01-08 유부초밥\n",
      "SEO 2025-01-09 볶음밥\n",
      "SEO 2025-01-10 볶음밥 , 연어\n",
      "SEO 2025-01-13 연어덮밥\n",
      "SEO 2025-01-14 볶음밥\n",
      "SEO 2025-01-15 연어덮밥\n",
      "SEO 2025-01-16 샌드위치\n",
      "SEO 2025-01-17 유부초밥\n",
      "SEO 2025-01-20 유부초밥\n",
      "SEO 2025-01-21 고등어구이,제육볶음\n",
      "SEO 2025-01-22 불고기\n",
      "SEO 2025-01-23 닭다리살 간장조림\n",
      "SEO 2025-02-03 닭죽\n",
      "jiwon 2025-01-07 닭개장\n",
      "jiwon 2025-01-08 스키야키\n",
      "jiwon 2025-01-09 참깨라면 작은컵,삼각김밥\n",
      "jiwon 2025-01-10 불닭로제찜닭\n",
      "jiwon 2025-01-16 짬짜면\n",
      "jiwon 2025-01-17 떡라면\n",
      "jiwon 2025-01-20 카레\n",
      "jiwon 2025-01-21 쉐이크\n",
      "jiwon 2025-01-22 쉐이크 , 샌드위치\n",
      "jiwon 2025-01-23 한솥\n",
      "jiwon 2025-01-24 부리또\n",
      "jiwon 2025-02-03 잔치국수\n",
      "jacob 2025-01-07 자장면\n",
      "jacob 2025-01-08 텐동\n",
      "jacob 2025-01-09 얼큰 설렁탕\n",
      "jacob 2025-01-10 부대찌개\n",
      "jacob 2025-01-13 참치김치찌개\n",
      "jacob 2025-01-14 한솥\n",
      "jacob 2025-01-15 햄 김치찌개\n",
      "jacob 2025-01-16 비빔,잔치 국수 반반\n",
      "jacob 2025-01-17 안심 돈카츠\n",
      "jacob 2025-01-20 백반\n",
      "jacob 2025-01-21 얼큰미나리 샤브세트\n",
      "jacob 2025-01-22 순두부 찌개\n",
      "jacob 2025-01-23 육회비빔밥\n",
      "jacob 2025-01-24 순두부찌개\n",
      "jacob 2025-02-03 김치 찌개\n",
      "heejin 2025-01-07 덮밥\n",
      "heejin 2025-01-08 덮밥\n",
      "heejin 2025-01-09 설렁탕\n",
      "heejin 2025-01-10 부대찌개\n",
      "heejin 2025-01-13 김밥\n",
      "heejin 2025-01-14 김밥\n",
      "heejin 2025-01-15 오므라이스\n",
      "heejin 2025-01-16 돈까스\n",
      "heejin 2025-01-17 볶음밥 , 컵라면\n",
      "heejin 2025-01-20 볶음밥\n",
      "heejin 2025-01-21 얼큰미나리 샤브세트\n",
      "heejin 2025-01-22 오므라이스\n",
      "heejin 2025-01-23 김밥\n",
      "heejin 2025-01-24 김치찌개\n",
      "heejin 2025-02-03 샌드위치\n",
      "lucas 2025-01-07 볶음밥\n",
      "lucas 2025-01-08 규동\n",
      "lucas 2025-01-09 한우 곰탕\n",
      "lucas 2025-01-10 부대찌개\n",
      "lucas 2025-01-13 꽃게 된장찌개\n",
      "lucas 2025-01-14 한솥\n",
      "lucas 2025-01-15 생고기김치찌개,라면사리\n",
      "lucas 2025-01-16 비빔국수 , 반 계란 김밥\n",
      "lucas 2025-01-17 안심 돈카츠\n",
      "lucas 2025-01-20 낙지 볶음\n",
      "lucas 2025-01-21 얼큰미나리 샤브세트\n",
      "lucas 2025-01-22 햄 김치찌개\n",
      "lucas 2025-01-23 육회비빔밥\n",
      "lucas 2025-01-24 콩나물해장국\n",
      "lucas 2025-02-03 제육볶음\n",
      "nuni 2025-01-07 일반 짬뽕 보통\n",
      "nuni 2025-01-08 무공 옛날돈가스\n",
      "nuni 2025-01-09 얼큰 설렁탕\n",
      "nuni 2025-01-10 부대찌개\n",
      "nuni 2025-01-13 고기김치찌개,라면세트\n",
      "nuni 2025-01-14 한솥\n",
      "nuni 2025-01-15 순두부찌개\n",
      "nuni 2025-01-16 반반국수(비빔&잔치)\n",
      "nuni 2025-01-17 카레 돈카츠 세트\n",
      "nuni 2025-01-20 제육볶음\n",
      "nuni 2025-01-22 순두부 찌개\n",
      "nuni 2025-01-23 육회비빔밥\n",
      "nuni 2025-01-24 김치찌개,라면\n",
      "nuni 2025-02-03 제육볶음\n"
     ]
    }
   ],
   "source": [
    "for name, date, menu in output:\n",
    "    print(name, date, menu)"
   ]
  },
  {
   "cell_type": "code",
   "execution_count": 17,
   "id": "6a57526e-c1d7-4f80-bd6b-a365ed0f30e4",
   "metadata": {},
   "outputs": [],
   "source": [
    "start_idx = df.columns.get_loc('2025-01-07')\n",
    "melted_df = df.melt(id_vars=['ename'], value_vars=df.columns[start_idx:-2], var_name='dt', value_name='menu')"
   ]
  },
  {
   "cell_type": "code",
   "execution_count": 18,
   "id": "3513a2f5-7abf-4cfd-992b-4ce54762cc52",
   "metadata": {},
   "outputs": [],
   "source": [
    "not_na_df = melted_df[~melted_df['menu'].isin(['-', 'x', '<결석>'])]"
   ]
  },
  {
   "cell_type": "code",
   "execution_count": 19,
   "id": "ca9f5390-474c-4b9a-ad70-6bbc7fa7b739",
   "metadata": {},
   "outputs": [],
   "source": [
    "gdf = not_na_df.groupby('ename')['menu'].count().reset_index()"
   ]
  },
  {
   "cell_type": "code",
   "execution_count": 21,
   "id": "4fb4216e-9a16-48d0-827c-fc4459f2fde8",
   "metadata": {},
   "outputs": [
    {
     "data": {
      "text/plain": [
       "<Axes: xlabel='ename'>"
      ]
     },
     "execution_count": 21,
     "metadata": {},
     "output_type": "execute_result"
    }
   ],
   "source": [
    "gdf.plot(x='ename', y='menu', kind='bar')"
   ]
  },
  {
   "cell_type": "markdown",
   "id": "eea92f5e-29c4-4363-a2bf-a2854ec5dfed",
   "metadata": {},
   "source": [
    "# Matplotlib로 bar chart 그리기\n",
    "\n"
   ]
  },
  {
   "cell_type": "code",
   "execution_count": null,
   "id": "79e6d6ab-c252-4c55-bb58-63fd45ce1729",
   "metadata": {},
   "outputs": [],
   "source": []
  }
 ],
 "metadata": {
  "kernelspec": {
   "display_name": "Python 3 (ipykernel)",
   "language": "python",
   "name": "python3"
  },
  "language_info": {
   "codemirror_mode": {
    "name": "ipython",
    "version": 3
   },
   "file_extension": ".py",
   "mimetype": "text/x-python",
   "name": "python",
   "nbconvert_exporter": "python",
   "pygments_lexer": "ipython3",
   "version": "3.10.12"
  }
 },
 "nbformat": 4,
 "nbformat_minor": 5
}
